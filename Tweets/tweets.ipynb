{
 "cells": [
  {
   "cell_type": "code",
   "execution_count": 2,
   "metadata": {},
   "outputs": [],
   "source": [
    "import snscrape.modules.twitter as sntwitter\n",
    "import pandas as pd"
   ]
  },
  {
   "cell_type": "code",
   "execution_count": 11,
   "metadata": {},
   "outputs": [],
   "source": [
    "query = \"(from:amazonIN) until:2022-01-01 since:2012-01-01\"\n",
    "tweets = []\n",
    "limit = 1000"
   ]
  },
  {
   "cell_type": "code",
   "execution_count": 9,
   "metadata": {},
   "outputs": [
    {
     "name": "stderr",
     "output_type": "stream",
     "text": [
      "C:\\Users\\adeen\\AppData\\Local\\Temp\\ipykernel_11924\\115765665.py:6: FutureWarning: username is deprecated, use user.username instead\n",
      "  tweets.append([tweet.date, tweet.username, tweet.content])\n"
     ]
    }
   ],
   "source": [
    "\n",
    "for tweet in sntwitter.TwitterSearchScraper(query).get_items():\n",
    "\n",
    "    if len(tweets) == limit:\n",
    "        break\n",
    "    else:\n",
    "        tweets.append([tweet.date, tweet.username, tweet.content])\n",
    "\n",
    "df = pd.DataFrame(tweets, columns=['Date', 'User', 'Tweet'])"
   ]
  },
  {
   "cell_type": "code",
   "execution_count": 12,
   "metadata": {},
   "outputs": [
    {
     "name": "stdout",
     "output_type": "stream",
     "text": [
      "                          Date      User  \\\n",
      "0    2021-12-31 18:37:57+00:00  amazonIN   \n",
      "1    2021-12-31 16:08:45+00:00  amazonIN   \n",
      "2    2021-12-31 15:43:04+00:00  amazonIN   \n",
      "3    2021-12-31 15:36:22+00:00  amazonIN   \n",
      "4    2021-12-31 13:22:53+00:00  amazonIN   \n",
      "...                        ...       ...   \n",
      "9995 2018-10-09 15:33:10+00:00  amazonIN   \n",
      "9996 2018-10-09 15:33:10+00:00  amazonIN   \n",
      "9997 2018-10-09 15:33:09+00:00  amazonIN   \n",
      "9998 2018-10-09 15:33:09+00:00  amazonIN   \n",
      "9999 2018-10-09 15:33:09+00:00  amazonIN   \n",
      "\n",
      "                                                  Tweet  \n",
      "0     @QaziSami We apologize for the inconvenience c...  \n",
      "1     @imAkshayjadhav_ Could you please confirm reac...  \n",
      "2     @imAkshayjadhav_ We'd like to help by taking a...  \n",
      "3     @imAkshayjadhav_ Ok, let us know if our suppor...  \n",
      "4     It's almost the end of the year and we have th...  \n",
      "...                                                 ...  \n",
      "9995  @BharatD77044260 Retweet now for The Great Ind...  \n",
      "9996  @praveen82manu Retweet now for The Great India...  \n",
      "9997  @AbhiramUppu Retweet now for The Great Indian ...  \n",
      "9998  @KewalSingla4 Retweet now for The Great Indian...  \n",
      "9999  @RushiSavani Retweet now for The Great Indian ...  \n",
      "\n",
      "[10000 rows x 3 columns]\n"
     ]
    }
   ],
   "source": [
    "print(df)"
   ]
  },
  {
   "cell_type": "code",
   "execution_count": 10,
   "metadata": {},
   "outputs": [
    {
     "data": {
      "text/html": [
       "<div>\n",
       "<style scoped>\n",
       "    .dataframe tbody tr th:only-of-type {\n",
       "        vertical-align: middle;\n",
       "    }\n",
       "\n",
       "    .dataframe tbody tr th {\n",
       "        vertical-align: top;\n",
       "    }\n",
       "\n",
       "    .dataframe thead th {\n",
       "        text-align: right;\n",
       "    }\n",
       "</style>\n",
       "<table border=\"1\" class=\"dataframe\">\n",
       "  <thead>\n",
       "    <tr style=\"text-align: right;\">\n",
       "      <th></th>\n",
       "      <th>Date</th>\n",
       "      <th>User</th>\n",
       "      <th>Tweet</th>\n",
       "    </tr>\n",
       "  </thead>\n",
       "  <tbody>\n",
       "    <tr>\n",
       "      <th>0</th>\n",
       "      <td>2021-12-31 18:37:57+00:00</td>\n",
       "      <td>amazonIN</td>\n",
       "      <td>@QaziSami We apologize for the inconvenience c...</td>\n",
       "    </tr>\n",
       "    <tr>\n",
       "      <th>1</th>\n",
       "      <td>2021-12-31 16:08:45+00:00</td>\n",
       "      <td>amazonIN</td>\n",
       "      <td>@imAkshayjadhav_ Could you please confirm reac...</td>\n",
       "    </tr>\n",
       "    <tr>\n",
       "      <th>2</th>\n",
       "      <td>2021-12-31 15:43:04+00:00</td>\n",
       "      <td>amazonIN</td>\n",
       "      <td>@imAkshayjadhav_ We'd like to help by taking a...</td>\n",
       "    </tr>\n",
       "    <tr>\n",
       "      <th>3</th>\n",
       "      <td>2021-12-31 15:36:22+00:00</td>\n",
       "      <td>amazonIN</td>\n",
       "      <td>@imAkshayjadhav_ Ok, let us know if our suppor...</td>\n",
       "    </tr>\n",
       "    <tr>\n",
       "      <th>4</th>\n",
       "      <td>2021-12-31 13:22:53+00:00</td>\n",
       "      <td>amazonIN</td>\n",
       "      <td>It's almost the end of the year and we have th...</td>\n",
       "    </tr>\n",
       "    <tr>\n",
       "      <th>...</th>\n",
       "      <td>...</td>\n",
       "      <td>...</td>\n",
       "      <td>...</td>\n",
       "    </tr>\n",
       "    <tr>\n",
       "      <th>9995</th>\n",
       "      <td>2018-10-09 15:33:10+00:00</td>\n",
       "      <td>amazonIN</td>\n",
       "      <td>@BharatD77044260 Retweet now for The Great Ind...</td>\n",
       "    </tr>\n",
       "    <tr>\n",
       "      <th>9996</th>\n",
       "      <td>2018-10-09 15:33:10+00:00</td>\n",
       "      <td>amazonIN</td>\n",
       "      <td>@praveen82manu Retweet now for The Great India...</td>\n",
       "    </tr>\n",
       "    <tr>\n",
       "      <th>9997</th>\n",
       "      <td>2018-10-09 15:33:09+00:00</td>\n",
       "      <td>amazonIN</td>\n",
       "      <td>@AbhiramUppu Retweet now for The Great Indian ...</td>\n",
       "    </tr>\n",
       "    <tr>\n",
       "      <th>9998</th>\n",
       "      <td>2018-10-09 15:33:09+00:00</td>\n",
       "      <td>amazonIN</td>\n",
       "      <td>@KewalSingla4 Retweet now for The Great Indian...</td>\n",
       "    </tr>\n",
       "    <tr>\n",
       "      <th>9999</th>\n",
       "      <td>2018-10-09 15:33:09+00:00</td>\n",
       "      <td>amazonIN</td>\n",
       "      <td>@RushiSavani Retweet now for The Great Indian ...</td>\n",
       "    </tr>\n",
       "  </tbody>\n",
       "</table>\n",
       "<p>10000 rows × 3 columns</p>\n",
       "</div>"
      ],
      "text/plain": [
       "                          Date      User  \\\n",
       "0    2021-12-31 18:37:57+00:00  amazonIN   \n",
       "1    2021-12-31 16:08:45+00:00  amazonIN   \n",
       "2    2021-12-31 15:43:04+00:00  amazonIN   \n",
       "3    2021-12-31 15:36:22+00:00  amazonIN   \n",
       "4    2021-12-31 13:22:53+00:00  amazonIN   \n",
       "...                        ...       ...   \n",
       "9995 2018-10-09 15:33:10+00:00  amazonIN   \n",
       "9996 2018-10-09 15:33:10+00:00  amazonIN   \n",
       "9997 2018-10-09 15:33:09+00:00  amazonIN   \n",
       "9998 2018-10-09 15:33:09+00:00  amazonIN   \n",
       "9999 2018-10-09 15:33:09+00:00  amazonIN   \n",
       "\n",
       "                                                  Tweet  \n",
       "0     @QaziSami We apologize for the inconvenience c...  \n",
       "1     @imAkshayjadhav_ Could you please confirm reac...  \n",
       "2     @imAkshayjadhav_ We'd like to help by taking a...  \n",
       "3     @imAkshayjadhav_ Ok, let us know if our suppor...  \n",
       "4     It's almost the end of the year and we have th...  \n",
       "...                                                 ...  \n",
       "9995  @BharatD77044260 Retweet now for The Great Ind...  \n",
       "9996  @praveen82manu Retweet now for The Great India...  \n",
       "9997  @AbhiramUppu Retweet now for The Great Indian ...  \n",
       "9998  @KewalSingla4 Retweet now for The Great Indian...  \n",
       "9999  @RushiSavani Retweet now for The Great Indian ...  \n",
       "\n",
       "[10000 rows x 3 columns]"
      ]
     },
     "execution_count": 10,
     "metadata": {},
     "output_type": "execute_result"
    }
   ],
   "source": [
    "df"
   ]
  }
 ],
 "metadata": {
  "kernelspec": {
   "display_name": "Python 3.10.7 64-bit (microsoft store)",
   "language": "python",
   "name": "python3"
  },
  "language_info": {
   "codemirror_mode": {
    "name": "ipython",
    "version": 3
   },
   "file_extension": ".py",
   "mimetype": "text/x-python",
   "name": "python",
   "nbconvert_exporter": "python",
   "pygments_lexer": "ipython3",
   "version": "3.10.7"
  },
  "orig_nbformat": 4,
  "vscode": {
   "interpreter": {
    "hash": "3c2bf89ec7708e2b41551bd5254b418363dc52d0668317de798d3f16269ac5ce"
   }
  }
 },
 "nbformat": 4,
 "nbformat_minor": 2
}
