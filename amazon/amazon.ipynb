{
 "cells": [
  {
   "cell_type": "markdown",
   "metadata": {},
   "source": [
    "#### Importing libraries"
   ]
  },
  {
   "cell_type": "code",
   "execution_count": 14,
   "metadata": {},
   "outputs": [],
   "source": [
    "from autoscraper import AutoScraper\n",
    "import pandas as pd"
   ]
  },
  {
   "cell_type": "markdown",
   "metadata": {},
   "source": [
    "#### Adding URL and adding required parameters in requirment_list(list)"
   ]
  },
  {
   "cell_type": "code",
   "execution_count": 3,
   "metadata": {},
   "outputs": [],
   "source": [
    "amazon_url = \"https://www.amazon.in/s?k=samsung+galaxy\"\n",
    "\n",
    "requirement_list = [\" ₹11,499\",\"Samsung Galaxy M21 2021 Edition (Arctic Blue, 4GB RAM, 64GB Storage) | FHD+ sAMOLED | 6 Months Free Screen Replacement for Prime (SM-M215GLBDINS) \"]"
   ]
  },
  {
   "cell_type": "markdown",
   "metadata": {},
   "source": [
    "#### Makeing a scraper "
   ]
  },
  {
   "cell_type": "code",
   "execution_count": 4,
   "metadata": {},
   "outputs": [],
   "source": [
    "scraper = AutoScraper()\n",
    "result = scraper.build(amazon_url,requirement_list)"
   ]
  },
  {
   "cell_type": "markdown",
   "metadata": {},
   "source": [
    "if we print results in print function ~*print(results it will shown a differnt type of data arrangements)*~\n",
    "but if we just runt the ~*result*~ data will be in a structured or in a table format"
   ]
  },
  {
   "cell_type": "code",
   "execution_count": 20,
   "metadata": {},
   "outputs": [
    {
     "name": "stdout",
     "output_type": "stream",
     "text": [
      "['₹11,499', '₹14,499', '₹72,999', '₹84,999', '₹18,999', '₹25,990', '₹11,999', '₹14,999', '₹39,990', '₹74,999', '₹24,999', '₹34,999', '₹13,999', '₹18,490', '₹18,499', '₹23,990', '₹28,499', '₹26,975', '₹38,999', '₹8,800', '₹10,499', '₹20,499', '₹25,999', '₹9,999', '₹12,999', '₹15,999', '₹49,999', 'Amazon\\'s Choicefor \"samsung galaxy\"', 'Samsung Galaxy M21 2021 Edition (Arctic Blue, 4GB RAM, 64GB Storage) | FHD+ sAMOLED | 6 Months Free Screen Replacement for Prime (SM-M215GLBDINS)', 'Samsung Galaxy S22 5G (Bora Purple, 8GB, 128GB Storage)', 'Samsung Galaxy M32 5G (Sky Blue, 8GB RAM, 128GB Storage) | Dimensity 720 Processor | 5000mAh Battery| Knox Security', 'Samsung Galaxy M13 (Midnight Blue, 4GB, 64GB Storage) | 6000mAh Battery | Upto 8GB RAM with RAM Plus', 'Samsung Galaxy M32 (Light Blue, 6GB RAM, 128GB Storage)', 'Samsung Galaxy S20 FE 5G (Cloud Navy, 8GB RAM, 128GB Storage) with No Cost EMI & Additional Exchange Offers', 'Samsung Galaxy M52 5G (ICY Blue, 6GB RAM, 128GB Storage) Latest Snapdragon 778G 5G | sAMOLED 120Hz Display', 'Samsung Galaxy A13 Blue, 4GB RAM, 64GB Storage with No Cost EMI/Additional Exchange Offers, (SM-A135FLBGINS)', 'Samsung Galaxy A23 Blue, 6GB RAM, 128GB Storage with No Cost EMI/Additional Exchange Offers', 'Samsung Galaxy M53 5G (Mystique Green, 8GB, 128GB Storage) | 108MP | sAmoled+ 120Hz | 16GB RAM with RAM Plus | Travel Adapter to be Purchased Separately', 'Samsung Galaxy A52s 5G (Violet, 6GB RAM, 128GB Storage) Without Offers', 'Samsung Galaxy A03 Core (Black, 2GB RAM, 32GB Storage) Without Offer', 'Samsung Galaxy M33 5G (Mystique Green, 8GB, 128GB Storage) | 6000mAh Battery | Upto 16GB RAM with RAM Plus | Travel Adapter to be Purchased Separately', 'Samsung Galaxy A03 Blue, 3GB RAM, 32GB Storage with No Cost EMI/Additional Exchange Offers', 'Samsung Galaxy A12 (Black, 4GB RAM, 64GB Storage) with No Cost EMI/Additional Exchange Offers', 'Samsung Galaxy S21 FE 5G (Lavender, 8GB, 128GB Storage)']\n"
     ]
    }
   ],
   "source": [
    "print(result)"
   ]
  },
  {
   "cell_type": "code",
   "execution_count": 21,
   "metadata": {},
   "outputs": [
    {
     "data": {
      "text/plain": [
       "['₹11,499',\n",
       " '₹14,499',\n",
       " '₹72,999',\n",
       " '₹84,999',\n",
       " '₹18,999',\n",
       " '₹25,990',\n",
       " '₹11,999',\n",
       " '₹14,999',\n",
       " '₹39,990',\n",
       " '₹74,999',\n",
       " '₹24,999',\n",
       " '₹34,999',\n",
       " '₹13,999',\n",
       " '₹18,490',\n",
       " '₹18,499',\n",
       " '₹23,990',\n",
       " '₹28,499',\n",
       " '₹26,975',\n",
       " '₹38,999',\n",
       " '₹8,800',\n",
       " '₹10,499',\n",
       " '₹20,499',\n",
       " '₹25,999',\n",
       " '₹9,999',\n",
       " '₹12,999',\n",
       " '₹15,999',\n",
       " '₹49,999',\n",
       " 'Amazon\\'s Choicefor \"samsung galaxy\"',\n",
       " 'Samsung Galaxy M21 2021 Edition (Arctic Blue, 4GB RAM, 64GB Storage) | FHD+ sAMOLED | 6 Months Free Screen Replacement for Prime (SM-M215GLBDINS)',\n",
       " 'Samsung Galaxy S22 5G (Bora Purple, 8GB, 128GB Storage)',\n",
       " 'Samsung Galaxy M32 5G (Sky Blue, 8GB RAM, 128GB Storage) | Dimensity 720 Processor | 5000mAh Battery| Knox Security',\n",
       " 'Samsung Galaxy M13 (Midnight Blue, 4GB, 64GB Storage) | 6000mAh Battery | Upto 8GB RAM with RAM Plus',\n",
       " 'Samsung Galaxy M32 (Light Blue, 6GB RAM, 128GB Storage)',\n",
       " 'Samsung Galaxy S20 FE 5G (Cloud Navy, 8GB RAM, 128GB Storage) with No Cost EMI & Additional Exchange Offers',\n",
       " 'Samsung Galaxy M52 5G (ICY Blue, 6GB RAM, 128GB Storage) Latest Snapdragon 778G 5G | sAMOLED 120Hz Display',\n",
       " 'Samsung Galaxy A13 Blue, 4GB RAM, 64GB Storage with No Cost EMI/Additional Exchange Offers, (SM-A135FLBGINS)',\n",
       " 'Samsung Galaxy A23 Blue, 6GB RAM, 128GB Storage with No Cost EMI/Additional Exchange Offers',\n",
       " 'Samsung Galaxy M53 5G (Mystique Green, 8GB, 128GB Storage) | 108MP | sAmoled+ 120Hz | 16GB RAM with RAM Plus | Travel Adapter to be Purchased Separately',\n",
       " 'Samsung Galaxy A52s 5G (Violet, 6GB RAM, 128GB Storage) Without Offers',\n",
       " 'Samsung Galaxy A03 Core (Black, 2GB RAM, 32GB Storage) Without Offer',\n",
       " 'Samsung Galaxy M33 5G (Mystique Green, 8GB, 128GB Storage) | 6000mAh Battery | Upto 16GB RAM with RAM Plus | Travel Adapter to be Purchased Separately',\n",
       " 'Samsung Galaxy A03 Blue, 3GB RAM, 32GB Storage with No Cost EMI/Additional Exchange Offers',\n",
       " 'Samsung Galaxy A12 (Black, 4GB RAM, 64GB Storage) with No Cost EMI/Additional Exchange Offers',\n",
       " 'Samsung Galaxy S21 FE 5G (Lavender, 8GB, 128GB Storage)']"
      ]
     },
     "execution_count": 21,
     "metadata": {},
     "output_type": "execute_result"
    }
   ],
   "source": [
    "result"
   ]
  },
  {
   "cell_type": "code",
   "execution_count": 17,
   "metadata": {},
   "outputs": [
    {
     "data": {
      "text/plain": [
       "{'rule_s6yg': ['₹11,499',\n",
       "  '₹14,499',\n",
       "  '₹72,999',\n",
       "  '₹84,999',\n",
       "  '₹11,999',\n",
       "  '₹12,999',\n",
       "  '₹39,990',\n",
       "  '₹74,999',\n",
       "  '₹14,999',\n",
       "  '₹18,999',\n",
       "  '₹24,999',\n",
       "  '₹34,999',\n",
       "  '₹18,999',\n",
       "  '₹25,990',\n",
       "  '₹13,999',\n",
       "  '₹18,490',\n",
       "  '₹28,499',\n",
       "  '₹34,999',\n",
       "  '₹18,499',\n",
       "  '₹23,990',\n",
       "  '₹26,975',\n",
       "  '₹38,999',\n",
       "  '₹8,800',\n",
       "  '₹10,499',\n",
       "  '₹11,999',\n",
       "  '₹15,999',\n",
       "  '₹20,499',\n",
       "  '₹25,999',\n",
       "  '₹9,999',\n",
       "  '₹12,999',\n",
       "  '₹44,999',\n",
       "  '₹49,990'],\n",
       " 'rule_e2gk': ['Amazon\\'s Choicefor \"samsung galaxy\"',\n",
       "  'Samsung Galaxy M21 2021 Edition (Arctic Blue, 4GB RAM, 64GB Storage) | FHD+ sAMOLED | 6 Months Free Screen Replacement for Prime (SM-M215GLBDINS)',\n",
       "  'Samsung Galaxy S22 5G (Bora Purple, 8GB, 128GB Storage)',\n",
       "  'Samsung Galaxy M12 (Blue,4GB RAM, 64GB Storage) 6000 mAh with 8nm Processor | True 48 MP Quad Camera | 90Hz Refresh Rate',\n",
       "  'Samsung Galaxy S20 FE 5G (Cloud Navy, 8GB RAM, 128GB Storage) with No Cost EMI & Additional Exchange Offers',\n",
       "  'Samsung Galaxy M32 (Light Blue, 6GB RAM, 128GB Storage)',\n",
       "  'Samsung Galaxy M52 5G (ICY Blue, 6GB RAM, 128GB Storage) Latest Snapdragon 778G 5G | sAMOLED 120Hz Display',\n",
       "  'Samsung Galaxy M32 5G (Sky Blue, 8GB RAM, 128GB Storage) | Dimensity 720 Processor | 5000mAh Battery| Knox Security',\n",
       "  'Samsung Galaxy A13 Blue, 4GB RAM, 64GB Storage with No Cost EMI/Additional Exchange Offers, (SM-A135FLBGINS)',\n",
       "  'Samsung Galaxy M53 5G (Mystique Green, 8GB, 128GB Storage) | 108MP | sAmoled+ 120Hz | 16GB RAM with RAM Plus | Travel Adapter to be Purchased Separately',\n",
       "  'Samsung Galaxy A23 Blue, 6GB RAM, 128GB Storage with No Cost EMI/Additional Exchange Offers',\n",
       "  'Samsung Galaxy A52s 5G (Violet, 6GB RAM, 128GB Storage) Without Offers',\n",
       "  'Samsung Galaxy A03 Core (Black, 2GB RAM, 32GB Storage) Without Offer',\n",
       "  'Samsung Galaxy A12 (Blue, 4GB RAM, 64GB Storage) with No Cost EMI/Additional Exchange Offers',\n",
       "  'Samsung Galaxy M33 5G (Mystique Green, 8GB, 128GB Storage) | 6000mAh Battery | Upto 16GB RAM with RAM Plus | Travel Adapter to be Purchased Separately',\n",
       "  'Samsung Galaxy A03 Blue, 3GB RAM, 32GB Storage with No Cost EMI/Additional Exchange Offers',\n",
       "  'Samsung Galaxy A73 5G Awesome Mint, 8GB RAM, 256GB Storage']}"
      ]
     },
     "execution_count": 17,
     "metadata": {},
     "output_type": "execute_result"
    }
   ],
   "source": [
    "scraper.get_result_similar(amazon_url,grouped=True)"
   ]
  },
  {
   "cell_type": "code",
   "execution_count": 18,
   "metadata": {},
   "outputs": [],
   "source": [
    "scraper.set_rule_aliases({'rule_e2gk':'Title','rule_s6yg':'Price'})\n",
    "scraper.keep_rules(['rule_e2gk','rule_s6yg'])\n",
    "scraper.save('amazon-search')"
   ]
  },
  {
   "cell_type": "code",
   "execution_count": 24,
   "metadata": {},
   "outputs": [],
   "source": [
    "results = scraper.get_result_similar('https://www.amazon.in/s?k=oneplus+under+50%2C000&ref=nb_sb_noss',group_by_alias=True)"
   ]
  },
  {
   "cell_type": "code",
   "execution_count": 12,
   "metadata": {},
   "outputs": [
    {
     "name": "stdout",
     "output_type": "stream",
     "text": [
      "{'Price': ['₹49,999', '₹39,999', '₹43,999', '₹34,999', '₹38,999', '₹49,999', '₹64,999', '₹49,999', '₹40,500', '₹46,999', '₹38,999', '₹42,999', '₹18,999', '₹19,999', '₹24,999', '₹33,999', '₹28,999', '₹54,999', '₹28,999', '₹34,999', '₹38,999', '₹35,999', '₹43,999', '₹38,999', '₹42,999'], 'Title': ['OnePlus 10T 5G (Jade Green, 8GB RAM, 128GB Storage)', 'OnePlus 10R 5G (Sierra Black, 12GB RAM, 256GB Storage, 150W SuperVOOC)', 'OnePlus 10R 5G (Forest Green, 8GB RAM, 128GB Storage, 80W SuperVOOC)', 'OnePlus 9 Pro 5G (Morning Mist, 8GB RAM, 128GB Storage)', 'OnePlus 10T 5G (Moonstone Black, 8GB RAM, 128GB Storage)', '(Renewed) OnePlus 9RT 5G (Nano Silver, 12GB RAM, 256GB Storage)+Alexa hands-free capable', 'OnePlus 10R 5G (Forest Green, 12GB RAM, 256GB Storage, 80W SuperVOOC)', 'OnePlus Nord CE 2 Lite 5G (Blue Tide, 6GB RAM, 128GB Storage)', 'OnePlus Nord CE 2 5G (Bahamas Blue, 8GB RAM, 128GB Storage)', 'OnePlus Nord 2T 5G (Gray Shadow, 12GB Storage, 256GB Storage)', 'OnePlus Nord 2T 5G (Gray Shadow, 8GB RAM, 128GB Storage)', 'OnePlus 10T 5G (Jade Green, 12GB RAM, 256GB Storage)', 'OnePlus Nord 2T 5G (Jade Fog, 8GB RAM, 128GB Storage)', 'OnePlus 10R 5G (Sierra Black, 8GB RAM, 128GB Storage, 80W SuperVOOC)', '(Renewed) OnePlus 10R 5G (Sierra Black, 12GB RAM, 256GB Storage, 150W SuperVOOC)', 'OnePlus 10R 5G (Sierra Black, 12GB RAM, 256GB Storage, 80W SuperVOOC)']}\n"
     ]
    }
   ],
   "source": [
    "print(results)"
   ]
  },
  {
   "cell_type": "code",
   "execution_count": 27,
   "metadata": {},
   "outputs": [
    {
     "data": {
      "text/plain": [
       "{'Price': ['₹49,999',\n",
       "  '₹39,999',\n",
       "  '₹43,999',\n",
       "  '₹34,999',\n",
       "  '₹38,999',\n",
       "  '₹49,999',\n",
       "  '₹64,999',\n",
       "  '₹49,999',\n",
       "  '₹40,500',\n",
       "  '₹46,999',\n",
       "  '₹38,999',\n",
       "  '₹42,999',\n",
       "  '₹18,999',\n",
       "  '₹19,999',\n",
       "  '₹24,999',\n",
       "  '₹33,999',\n",
       "  '₹28,999',\n",
       "  '₹54,999',\n",
       "  '₹28,999',\n",
       "  '₹34,999',\n",
       "  '₹38,999',\n",
       "  '₹35,999',\n",
       "  '₹43,999'],\n",
       " 'Title': ['OnePlus 10T 5G (Jade Green, 8GB RAM, 128GB Storage)',\n",
       "  'OnePlus 10R 5G (Sierra Black, 12GB RAM, 256GB Storage, 150W SuperVOOC)',\n",
       "  'OnePlus 10R 5G (Forest Green, 8GB RAM, 128GB Storage, 80W SuperVOOC)',\n",
       "  'OnePlus 9 Pro 5G (Morning Mist, 8GB RAM, 128GB Storage)',\n",
       "  'OnePlus 10T 5G (Moonstone Black, 8GB RAM, 128GB Storage)',\n",
       "  '(Renewed) OnePlus 9RT 5G (Nano Silver, 12GB RAM, 256GB Storage)+Alexa hands-free capable',\n",
       "  'OnePlus 10R 5G (Forest Green, 12GB RAM, 256GB Storage, 80W SuperVOOC)',\n",
       "  'OnePlus Nord CE 2 Lite 5G (Blue Tide, 6GB RAM, 128GB Storage)',\n",
       "  'OnePlus Nord CE 2 5G (Bahamas Blue, 8GB RAM, 128GB Storage)',\n",
       "  'OnePlus Nord 2T 5G (Gray Shadow, 12GB Storage, 256GB Storage)',\n",
       "  'OnePlus Nord 2T 5G (Gray Shadow, 8GB RAM, 128GB Storage)',\n",
       "  'OnePlus 10T 5G (Jade Green, 12GB RAM, 256GB Storage)',\n",
       "  'OnePlus 9 Pro 5G (Stellar Black, 8GB RAM, 128GB Storage)',\n",
       "  'OnePlus Nord 2T 5G (Jade Fog, 8GB RAM, 128GB Storage)',\n",
       "  'OnePlus 10R 5G (Sierra Black, 8GB RAM, 128GB Storage, 80W SuperVOOC)',\n",
       "  '(Renewed) OnePlus 10R 5G (Sierra Black, 12GB RAM, 256GB Storage, 150W SuperVOOC)']}"
      ]
     },
     "execution_count": 27,
     "metadata": {},
     "output_type": "execute_result"
    }
   ],
   "source": [
    "results"
   ]
  }
 ],
 "metadata": {
  "kernelspec": {
   "display_name": "Python 3 (ipykernel)",
   "language": "python",
   "name": "python3"
  },
  "language_info": {
   "codemirror_mode": {
    "name": "ipython",
    "version": 3
   },
   "file_extension": ".py",
   "mimetype": "text/x-python",
   "name": "python",
   "nbconvert_exporter": "python",
   "pygments_lexer": "ipython3",
   "version": "3.10.7"
  },
  "vscode": {
   "interpreter": {
    "hash": "3c2bf89ec7708e2b41551bd5254b418363dc52d0668317de798d3f16269ac5ce"
   }
  }
 },
 "nbformat": 4,
 "nbformat_minor": 4
}
